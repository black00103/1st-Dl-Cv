{
 "cells": [
  {
   "cell_type": "markdown",
   "metadata": {},
   "source": [
    "## 『本次練習內容』\n",
    "#### 運用這幾天所學觀念搭建一個CNN分類器"
   ]
  },
  {
   "cell_type": "markdown",
   "metadata": {},
   "source": [
    "## 『本次練習目的』\n",
    "  #### 熟悉CNN分類器搭建步驟與原理\n",
    "  #### 學員們可以嘗試不同搭法，如使用不同的Maxpooling層，用GlobalAveragePooling取代Flatten等等"
   ]
  },
  {
   "cell_type": "code",
   "execution_count": 1,
   "metadata": {},
   "outputs": [
    {
     "name": "stderr",
     "output_type": "stream",
     "text": [
      "c:\\users\\abc\\anaconda3\\envs\\deeping\\lib\\site-packages\\h5py\\__init__.py:36: FutureWarning: Conversion of the second argument of issubdtype from `float` to `np.floating` is deprecated. In future, it will be treated as `np.float64 == np.dtype(float).type`.\n",
      "  from ._conv import register_converters as _register_converters\n",
      "Using TensorFlow backend.\n"
     ]
    }
   ],
   "source": [
    "from keras.models import Sequential\n",
    "from keras.layers import Convolution2D\n",
    "from keras.layers import MaxPooling2D\n",
    "from keras.layers import Flatten\n",
    "from keras.layers import Dense\n",
    "from keras.layers import Dropout\n",
    "from keras.layers import BatchNormalization\n",
    "from keras.datasets import cifar10\n",
    "import numpy as np\n",
    "import tensorflow as tf\n",
    "from sklearn.preprocessing import OneHotEncoder\n"
   ]
  },
  {
   "cell_type": "code",
   "execution_count": 2,
   "metadata": {},
   "outputs": [
    {
     "name": "stdout",
     "output_type": "stream",
     "text": [
      "(50000, 32, 32, 3)\n"
     ]
    }
   ],
   "source": [
    "(x_train, y_train), (x_test, y_test) = cifar10.load_data()\n",
    "\n",
    "print(x_train.shape) #(50000, 32, 32, 3)\n",
    "\n",
    "## Normalize Data\n",
    "def normalize(X_train,X_test):\n",
    "        mean = np.mean(X_train,axis=(0,1,2,3))\n",
    "        std = np.std(X_train, axis=(0, 1, 2, 3))\n",
    "        X_train = (X_train-mean)/(std+1e-7)\n",
    "        X_test = (X_test-mean)/(std+1e-7) \n",
    "        return X_train, X_test,mean,std\n",
    "    \n",
    "    \n",
    "## Normalize Training and Testset    \n",
    "x_train, x_test,mean_train,std_train = normalize(x_train, x_test) "
   ]
  },
  {
   "cell_type": "code",
   "execution_count": 3,
   "metadata": {},
   "outputs": [],
   "source": [
    "## OneHot Label 由(None, 1)-(None, 10)\n",
    "## ex. label=2,變成[0,0,1,0,0,0,0,0,0,0]\n",
    "one_hot=OneHotEncoder()\n",
    "y_train=one_hot.fit_transform(y_train).toarray()\n",
    "y_test=one_hot.transform(y_test).toarray()"
   ]
  },
  {
   "cell_type": "code",
   "execution_count": 4,
   "metadata": {},
   "outputs": [
    {
     "name": "stderr",
     "output_type": "stream",
     "text": [
      "c:\\users\\abc\\anaconda3\\envs\\deeping\\lib\\site-packages\\ipykernel_launcher.py:20: UserWarning: Update your `Dense` call to the Keras 2 API: `Dense(activation=\"relu\", units=100)`\n",
      "c:\\users\\abc\\anaconda3\\envs\\deeping\\lib\\site-packages\\ipykernel_launcher.py:23: UserWarning: Update your `Dense` call to the Keras 2 API: `Dense(activation=\"softmax\", units=10)`\n"
     ]
    },
    {
     "name": "stdout",
     "output_type": "stream",
     "text": [
      "Epoch 1/100\n",
      "50000/50000 [==============================] - 9s 172us/step - loss: 1.3492 - accuracy: 0.5258\n",
      "Epoch 2/100\n",
      "50000/50000 [==============================] - 7s 135us/step - loss: 0.9361 - accuracy: 0.6724\n",
      "Epoch 3/100\n",
      "50000/50000 [==============================] - 7s 132us/step - loss: 0.7648 - accuracy: 0.7321\n",
      "Epoch 4/100\n",
      "50000/50000 [==============================] - 6s 122us/step - loss: 0.6407 - accuracy: 0.7762\n",
      "Epoch 5/100\n",
      "50000/50000 [==============================] - 7s 131us/step - loss: 0.5383 - accuracy: 0.8110\n",
      "Epoch 6/100\n",
      "50000/50000 [==============================] - 6s 123us/step - loss: 0.4395 - accuracy: 0.8456\n",
      "Epoch 7/100\n",
      "50000/50000 [==============================] - 6s 126us/step - loss: 0.3559 - accuracy: 0.8766\n",
      "Epoch 8/100\n",
      "50000/50000 [==============================] - 6s 126us/step - loss: 0.2832 - accuracy: 0.9022\n",
      "Epoch 9/100\n",
      "50000/50000 [==============================] - 6s 127us/step - loss: 0.2251 - accuracy: 0.9217\n",
      "Epoch 10/100\n",
      "50000/50000 [==============================] - 6s 124us/step - loss: 0.1744 - accuracy: 0.9407\n",
      "Epoch 11/100\n",
      "50000/50000 [==============================] - 6s 124us/step - loss: 0.1485 - accuracy: 0.9490\n",
      "Epoch 12/100\n",
      "50000/50000 [==============================] - 7s 133us/step - loss: 0.1162 - accuracy: 0.9601\n",
      "Epoch 13/100\n",
      "50000/50000 [==============================] - 6s 127us/step - loss: 0.1125 - accuracy: 0.9611\n",
      "Epoch 14/100\n",
      "50000/50000 [==============================] - 6s 126us/step - loss: 0.0979 - accuracy: 0.9663\n",
      "Epoch 15/100\n",
      "50000/50000 [==============================] - 6s 118us/step - loss: 0.0937 - accuracy: 0.9673\n",
      "Epoch 16/100\n",
      "50000/50000 [==============================] - 6s 128us/step - loss: 0.0785 - accuracy: 0.9726\n",
      "Epoch 17/100\n",
      "50000/50000 [==============================] - 7s 132us/step - loss: 0.0723 - accuracy: 0.9745\n",
      "Epoch 18/100\n",
      "50000/50000 [==============================] - 7s 137us/step - loss: 0.0758 - accuracy: 0.9728\n",
      "Epoch 19/100\n",
      "50000/50000 [==============================] - 6s 126us/step - loss: 0.0668 - accuracy: 0.9766\n",
      "Epoch 20/100\n",
      "50000/50000 [==============================] - 7s 132us/step - loss: 0.0616 - accuracy: 0.9783\n",
      "Epoch 21/100\n",
      "50000/50000 [==============================] - 7s 133us/step - loss: 0.0657 - accuracy: 0.9776\n",
      "Epoch 22/100\n",
      "50000/50000 [==============================] - 6s 125us/step - loss: 0.0680 - accuracy: 0.9760\n",
      "Epoch 23/100\n",
      "50000/50000 [==============================] - 7s 133us/step - loss: 0.0553 - accuracy: 0.9798\n",
      "Epoch 24/100\n",
      "50000/50000 [==============================] - 7s 133us/step - loss: 0.0552 - accuracy: 0.9807\n",
      "Epoch 25/100\n",
      "50000/50000 [==============================] - 6s 123us/step - loss: 0.0520 - accuracy: 0.9821\n",
      "Epoch 26/100\n",
      "50000/50000 [==============================] - 7s 131us/step - loss: 0.0487 - accuracy: 0.9827\n",
      "Epoch 27/100\n",
      "50000/50000 [==============================] - 7s 142us/step - loss: 0.0536 - accuracy: 0.9817\n",
      "Epoch 28/100\n",
      "50000/50000 [==============================] - 6s 125us/step - loss: 0.0427 - accuracy: 0.9858\n",
      "Epoch 29/100\n",
      "50000/50000 [==============================] - 7s 134us/step - loss: 0.0585 - accuracy: 0.9798\n",
      "Epoch 30/100\n",
      "50000/50000 [==============================] - 7s 147us/step - loss: 0.0490 - accuracy: 0.9836\n",
      "Epoch 31/100\n",
      "50000/50000 [==============================] - 7s 144us/step - loss: 0.0394 - accuracy: 0.9862\n",
      "Epoch 32/100\n",
      "50000/50000 [==============================] - 7s 144us/step - loss: 0.0446 - accuracy: 0.9847\n",
      "Epoch 33/100\n",
      "50000/50000 [==============================] - 7s 137us/step - loss: 0.0385 - accuracy: 0.9866\n",
      "Epoch 34/100\n",
      "50000/50000 [==============================] - 7s 137us/step - loss: 0.0480 - accuracy: 0.9836\n",
      "Epoch 35/100\n",
      "50000/50000 [==============================] - 6s 127us/step - loss: 0.0384 - accuracy: 0.9873\n",
      "Epoch 36/100\n",
      "50000/50000 [==============================] - 6s 130us/step - loss: 0.0413 - accuracy: 0.9862\n",
      "Epoch 37/100\n",
      "50000/50000 [==============================] - 7s 141us/step - loss: 0.0399 - accuracy: 0.9865\n",
      "Epoch 38/100\n",
      "50000/50000 [==============================] - 7s 145us/step - loss: 0.0461 - accuracy: 0.9849\n",
      "Epoch 39/100\n",
      "50000/50000 [==============================] - 7s 132us/step - loss: 0.0326 - accuracy: 0.9889\n",
      "Epoch 40/100\n",
      "50000/50000 [==============================] - 6s 128us/step - loss: 0.0269 - accuracy: 0.9913\n",
      "Epoch 41/100\n",
      "50000/50000 [==============================] - 7s 137us/step - loss: 0.0454 - accuracy: 0.9851\n",
      "Epoch 42/100\n",
      "50000/50000 [==============================] - 7s 138us/step - loss: 0.0391 - accuracy: 0.9865\n",
      "Epoch 43/100\n",
      "50000/50000 [==============================] - 7s 134us/step - loss: 0.0328 - accuracy: 0.9891\n",
      "Epoch 44/100\n",
      "50000/50000 [==============================] - 6s 129us/step - loss: 0.0374 - accuracy: 0.9877\n",
      "Epoch 45/100\n",
      "50000/50000 [==============================] - 7s 139us/step - loss: 0.0318 - accuracy: 0.9894\n",
      "Epoch 46/100\n",
      "50000/50000 [==============================] - 7s 134us/step - loss: 0.0303 - accuracy: 0.9897\n",
      "Epoch 47/100\n",
      "50000/50000 [==============================] - 7s 143us/step - loss: 0.0260 - accuracy: 0.9912\n",
      "Epoch 48/100\n",
      "50000/50000 [==============================] - 7s 132us/step - loss: 0.0315 - accuracy: 0.9891\n",
      "Epoch 49/100\n",
      "50000/50000 [==============================] - 7s 138us/step - loss: 0.0333 - accuracy: 0.9888\n",
      "Epoch 50/100\n",
      "50000/50000 [==============================] - 7s 137us/step - loss: 0.0286 - accuracy: 0.9899\n",
      "Epoch 51/100\n",
      "50000/50000 [==============================] - 7s 132us/step - loss: 0.0282 - accuracy: 0.9908\n",
      "Epoch 52/100\n",
      "50000/50000 [==============================] - 7s 138us/step - loss: 0.0294 - accuracy: 0.9905\n",
      "Epoch 53/100\n",
      "50000/50000 [==============================] - 6s 129us/step - loss: 0.0364 - accuracy: 0.9878\n",
      "Epoch 54/100\n",
      "50000/50000 [==============================] - 7s 141us/step - loss: 0.0278 - accuracy: 0.9904\n",
      "Epoch 55/100\n",
      "50000/50000 [==============================] - 6s 128us/step - loss: 0.0270 - accuracy: 0.9907\n",
      "Epoch 56/100\n",
      "50000/50000 [==============================] - 6s 129us/step - loss: 0.0323 - accuracy: 0.9892\n",
      "Epoch 57/100\n",
      "50000/50000 [==============================] - 6s 125us/step - loss: 0.0297 - accuracy: 0.9905\n",
      "Epoch 58/100\n",
      "50000/50000 [==============================] - 7s 132us/step - loss: 0.0166 - accuracy: 0.9945\n",
      "Epoch 59/100\n",
      "50000/50000 [==============================] - 7s 137us/step - loss: 0.0218 - accuracy: 0.9928\n",
      "Epoch 60/100\n",
      "50000/50000 [==============================] - 7s 134us/step - loss: 0.0343 - accuracy: 0.9887\n",
      "Epoch 61/100\n",
      "50000/50000 [==============================] - 6s 128us/step - loss: 0.0284 - accuracy: 0.9909\n",
      "Epoch 62/100\n",
      "50000/50000 [==============================] - 7s 130us/step - loss: 0.0260 - accuracy: 0.9913\n",
      "Epoch 63/100\n",
      "50000/50000 [==============================] - 7s 138us/step - loss: 0.0236 - accuracy: 0.9921\n",
      "Epoch 64/100\n",
      "50000/50000 [==============================] - 7s 140us/step - loss: 0.0286 - accuracy: 0.9908\n",
      "Epoch 65/100\n",
      "50000/50000 [==============================] - 7s 131us/step - loss: 0.0253 - accuracy: 0.9914\n",
      "Epoch 66/100\n",
      "50000/50000 [==============================] - 7s 135us/step - loss: 0.0184 - accuracy: 0.9938\n",
      "Epoch 67/100\n",
      "50000/50000 [==============================] - 7s 133us/step - loss: 0.0168 - accuracy: 0.9944\n",
      "Epoch 68/100\n",
      "50000/50000 [==============================] - 7s 141us/step - loss: 0.0171 - accuracy: 0.9940\n",
      "Epoch 69/100\n",
      "50000/50000 [==============================] - 7s 135us/step - loss: 0.0282 - accuracy: 0.9909\n",
      "Epoch 70/100\n",
      "50000/50000 [==============================] - 6s 128us/step - loss: 0.0341 - accuracy: 0.9889\n",
      "Epoch 71/100\n",
      "50000/50000 [==============================] - 7s 142us/step - loss: 0.0220 - accuracy: 0.9924\n",
      "Epoch 72/100\n",
      "50000/50000 [==============================] - 6s 129us/step - loss: 0.0214 - accuracy: 0.9926\n",
      "Epoch 73/100\n",
      "50000/50000 [==============================] - 7s 138us/step - loss: 0.0200 - accuracy: 0.9932\n",
      "Epoch 74/100\n",
      "50000/50000 [==============================] - 7s 138us/step - loss: 0.0163 - accuracy: 0.99440s - loss: 0.0162 - accuracy: 0.99\n",
      "Epoch 75/100\n",
      "50000/50000 [==============================] - 7s 133us/step - loss: 0.0238 - accuracy: 0.9920\n",
      "Epoch 76/100\n"
     ]
    },
    {
     "name": "stdout",
     "output_type": "stream",
     "text": [
      "50000/50000 [==============================] - 7s 134us/step - loss: 0.0276 - accuracy: 0.9907\n",
      "Epoch 77/100\n",
      "50000/50000 [==============================] - 7s 150us/step - loss: 0.0230 - accuracy: 0.9928\n",
      "Epoch 78/100\n",
      "50000/50000 [==============================] - 7s 148us/step - loss: 0.0148 - accuracy: 0.9955\n",
      "Epoch 79/100\n",
      "50000/50000 [==============================] - 7s 137us/step - loss: 0.0189 - accuracy: 0.9943\n",
      "Epoch 80/100\n",
      "50000/50000 [==============================] - 7s 143us/step - loss: 0.0229 - accuracy: 0.9923\n",
      "Epoch 81/100\n",
      "50000/50000 [==============================] - 8s 150us/step - loss: 0.0215 - accuracy: 0.9926\n",
      "Epoch 82/100\n",
      "50000/50000 [==============================] - 7s 136us/step - loss: 0.0183 - accuracy: 0.9941\n",
      "Epoch 83/100\n",
      "50000/50000 [==============================] - 7s 137us/step - loss: 0.0175 - accuracy: 0.9942\n",
      "Epoch 84/100\n",
      "50000/50000 [==============================] - 7s 137us/step - loss: 0.0218 - accuracy: 0.9933\n",
      "Epoch 85/100\n",
      "50000/50000 [==============================] - 7s 147us/step - loss: 0.0231 - accuracy: 0.9926\n",
      "Epoch 86/100\n",
      "50000/50000 [==============================] - 9s 176us/step - loss: 0.0175 - accuracy: 0.9943\n",
      "Epoch 87/100\n",
      "50000/50000 [==============================] - 12s 233us/step - loss: 0.0141 - accuracy: 0.9951\n",
      "Epoch 88/100\n",
      "50000/50000 [==============================] - 9s 181us/step - loss: 0.0181 - accuracy: 0.9940\n",
      "Epoch 89/100\n",
      "50000/50000 [==============================] - 8s 150us/step - loss: 0.0293 - accuracy: 0.9902\n",
      "Epoch 90/100\n",
      "50000/50000 [==============================] - 7s 132us/step - loss: 0.0181 - accuracy: 0.9940\n",
      "Epoch 91/100\n",
      "50000/50000 [==============================] - 7s 137us/step - loss: 0.0159 - accuracy: 0.9952\n",
      "Epoch 92/100\n",
      "50000/50000 [==============================] - 7s 132us/step - loss: 0.0166 - accuracy: 0.9948\n",
      "Epoch 93/100\n",
      "50000/50000 [==============================] - 7s 134us/step - loss: 0.0146 - accuracy: 0.9954\n",
      "Epoch 94/100\n",
      "50000/50000 [==============================] - 7s 134us/step - loss: 0.0159 - accuracy: 0.9949\n",
      "Epoch 95/100\n",
      "50000/50000 [==============================] - 6s 130us/step - loss: 0.0210 - accuracy: 0.9931\n",
      "Epoch 96/100\n",
      "50000/50000 [==============================] - 6s 123us/step - loss: 0.0178 - accuracy: 0.9941\n",
      "Epoch 97/100\n",
      "50000/50000 [==============================] - 6s 120us/step - loss: 0.0193 - accuracy: 0.9935\n",
      "Epoch 98/100\n",
      "50000/50000 [==============================] - 7s 132us/step - loss: 0.0129 - accuracy: 0.9957\n",
      "Epoch 99/100\n",
      "50000/50000 [==============================] - 7s 134us/step - loss: 0.0120 - accuracy: 0.9960\n",
      "Epoch 100/100\n",
      "50000/50000 [==============================] - 6s 129us/step - loss: 0.0173 - accuracy: 0.9945\n"
     ]
    },
    {
     "data": {
      "text/plain": [
       "<keras.callbacks.callbacks.History at 0x2448fc12198>"
      ]
     },
     "execution_count": 4,
     "metadata": {},
     "output_type": "execute_result"
    }
   ],
   "source": [
    "\n",
    "classifier=Sequential()\n",
    "\n",
    "#卷積組合\n",
    "classifier.add(Convolution2D(input_shape=(32, 32, 3), kernel_size=(3,3), filters=32, activation='relu', padding='same'))#32,3,3,input_shape=(32,32,3),activation='relu''\n",
    "classifier.add(BatchNormalization())\n",
    "classifier.add(MaxPooling2D(pool_size=(2,2)))\n",
    "\n",
    "'''自己決定MaxPooling2D放在哪裡'''\n",
    "#classifier.add(MaxPooling2D(pool_size=(2,2)))\n",
    "\n",
    "#卷積組合\n",
    "classifier.add(Convolution2D(kernel_size=(3,3),filters=32, activation='relu', padding='same'))\n",
    "classifier.add(BatchNormalization())\n",
    "classifier.add(MaxPooling2D(pool_size=(2,2)))\n",
    "\n",
    "#flatten\n",
    "classifier.add(Flatten())\n",
    "\n",
    "#FC\n",
    "classifier.add(Dense(output_dim=100,activation='relu')) #output_dim=100,activation=relu\n",
    "\n",
    "#輸出\n",
    "classifier.add(Dense(output_dim=10,activation='softmax'))\n",
    "\n",
    "#超過兩個就要選categorical_crossentrophy\n",
    "classifier.compile(optimizer = 'adam', loss = 'categorical_crossentropy', metrics = ['accuracy'])\n",
    "classifier.fit(x_train,y_train,batch_size=100,epochs=100)"
   ]
  },
  {
   "cell_type": "markdown",
   "metadata": {},
   "source": [
    "## 預測新圖片，輸入影像前處理要與訓練時相同\n",
    "#### ((X-mean)/(std+1e-7) ):這裡的mean跟std是訓練集的\n",
    "## 維度如下方示範"
   ]
  },
  {
   "cell_type": "code",
   "execution_count": 5,
   "metadata": {},
   "outputs": [],
   "source": [
    "input_example=(np.zeros(shape=(1,32,32,3))-mean_train)/(std_train+1e-7) \n",
    "y_pred = classifier.predict(input_example)"
   ]
  },
  {
   "cell_type": "code",
   "execution_count": 6,
   "metadata": {},
   "outputs": [
    {
     "name": "stdout",
     "output_type": "stream",
     "text": [
      "10000/10000 [==============================] - 1s 100us/step\n"
     ]
    },
    {
     "data": {
      "text/plain": [
       "[3.851839103126526, 0.6945000290870667]"
      ]
     },
     "execution_count": 6,
     "metadata": {},
     "output_type": "execute_result"
    }
   ],
   "source": [
    "classifier.evaluate(x_test, y_test)"
   ]
  },
  {
   "cell_type": "code",
   "execution_count": null,
   "metadata": {},
   "outputs": [],
   "source": []
  }
 ],
 "metadata": {
  "kernelspec": {
   "display_name": "Python 3",
   "language": "python",
   "name": "python3"
  },
  "language_info": {
   "codemirror_mode": {
    "name": "ipython",
    "version": 3
   },
   "file_extension": ".py",
   "mimetype": "text/x-python",
   "name": "python",
   "nbconvert_exporter": "python",
   "pygments_lexer": "ipython3",
   "version": "3.6.9"
  }
 },
 "nbformat": 4,
 "nbformat_minor": 2
}
