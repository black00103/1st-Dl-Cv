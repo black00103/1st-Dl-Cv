{
 "cells": [
  {
   "cell_type": "markdown",
   "metadata": {},
   "source": [
    "## 『作業內容』\n",
    "####   依照指示，搭建Maxpooling層與全連接層"
   ]
  },
  {
   "cell_type": "markdown",
   "metadata": {},
   "source": [
    "## 『目標』\n",
    "####   了解Maxpooling的原理與CNN、FC層連結的方式"
   ]
  },
  {
   "cell_type": "code",
   "execution_count": 1,
   "metadata": {},
   "outputs": [
    {
     "name": "stderr",
     "output_type": "stream",
     "text": [
      "c:\\users\\abc\\anaconda3\\envs\\deeping\\lib\\site-packages\\h5py\\__init__.py:36: FutureWarning: Conversion of the second argument of issubdtype from `float` to `np.floating` is deprecated. In future, it will be treated as `np.float64 == np.dtype(float).type`.\n",
      "  from ._conv import register_converters as _register_converters\n",
      "Using TensorFlow backend.\n"
     ]
    }
   ],
   "source": [
    "from keras.models import Sequential  #用來啟動 NN\n",
    "from keras.layers import Conv2D  # Convolution Operation\n",
    "from keras.layers import MaxPooling2D # Pooling\n",
    "from keras.layers import Flatten\n",
    "from keras.layers import Dense # Fully Connected Networks\n"
   ]
  },
  {
   "cell_type": "code",
   "execution_count": 6,
   "metadata": {
    "colab": {},
    "colab_type": "code",
    "id": "43xxX0yJxiDr"
   },
   "outputs": [
    {
     "name": "stdout",
     "output_type": "stream",
     "text": [
      "Model: \"sequential_3\"\n",
      "_________________________________________________________________\n",
      "Layer (type)                 Output Shape              Param #   \n",
      "=================================================================\n",
      "conv2d_3 (Conv2D)            (None, 32, 32, 32)        896       \n",
      "_________________________________________________________________\n",
      "max_pooling2d_1 (MaxPooling2 (None, 16, 16, 32)        0         \n",
      "_________________________________________________________________\n",
      "conv2d_4 (Conv2D)            (None, 16, 16, 64)        18496     \n",
      "_________________________________________________________________\n",
      "max_pooling2d_2 (MaxPooling2 (None, 8, 8, 64)          0         \n",
      "_________________________________________________________________\n",
      "conv2d_5 (Conv2D)            (None, 8, 8, 128)         73856     \n",
      "_________________________________________________________________\n",
      "max_pooling2d_3 (MaxPooling2 (None, 8, 8, 128)         0         \n",
      "_________________________________________________________________\n",
      "conv2d_6 (Conv2D)            (None, 8, 8, 10)          11530     \n",
      "_________________________________________________________________\n",
      "flatten_1 (Flatten)          (None, 640)               0         \n",
      "_________________________________________________________________\n",
      "dense_1 (Dense)              (None, 28)                17948     \n",
      "=================================================================\n",
      "Total params: 122,726\n",
      "Trainable params: 122,726\n",
      "Non-trainable params: 0\n",
      "_________________________________________________________________\n"
     ]
    }
   ],
   "source": [
    "input_shape = (32, 32, 3)\n",
    "\n",
    "model = Sequential()\n",
    "\n",
    "model.add(Conv2D(32, kernel_size = (3, 3), padding ='same',input_shape=input_shape))\n",
    "model.add(MaxPooling2D(pool_size = (2, 2),strides=(2,2)))##pooling_size=2,2 strides=2,2 輸出feature map 大小為多少？\n",
    "          \n",
    "# Params = (kernel_size * input_channels + 1) * kernel numbers=((3* 3)*3+1)*32 = 896\n",
    "# Pooling_output = (Input+2*padding-Kernel_Size) /Stride+1= (32 + 2*1 - 3) / 2 + 1 = 16\n",
    "          \n",
    "          \n",
    "model.add(Conv2D(64, kernel_size=(3, 3), padding='same'))\n",
    "model.add(MaxPooling2D(pool_size = (2,2),strides = (2,2)))##pooling_size=2,2 strides=2,2 輸出feature map 大小為多少？\n",
    "# Params = (kernel_size * input_channels + 1) * kernel numbers=((3* 3)*32+1)*64 = 18496\n",
    "# Pooling_output = (Input+2*padding-Kernel_Size) /Stride+1= (16 + 2*1 - 3) / 2 + 1 = 8\n",
    "          \n",
    "          \n",
    "model.add(Conv2D(128, kernel_size=(3, 3), padding='same'))\n",
    "model.add(MaxPooling2D(pool_size= (1,1),strides= (1,1)))##pooling_size=1,1 strides=1,1 輸出feature map 大小為多少？\n",
    "# Params = (kernel_size * input_channels + 1) * kernel numbers=((3* 3)*64+1)*128 = 73856\n",
    "# Pooling_output = (Input+2*padding-Kernel_Size) /Stride+1= (8 + 2*1 - 3) / 1+ 1 = 8\n",
    "          \n",
    "          \n",
    "model.add(Conv2D(10, kernel_size=(3, 3), padding='same'))\n",
    "model.add(Flatten()) ##Flatten完尺寸如何變化？\n",
    "#model.add(GlobalAveragePooling2D()) #關掉Flatten，使用GlobalAveragePooling2D，完尺寸如何變化？\n",
    "\n",
    "model.add(Dense(units=28, input_shape=input_shape)) ##全連接層使用28個units\n",
    "# Params = (kernel_size * input_channels + 1) * kernel numbers=((8* 8)*10+1) * 28 = 17948\n",
    "\n",
    "model.summary()"
   ]
  },
  {
   "cell_type": "code",
   "execution_count": 7,
   "metadata": {},
   "outputs": [
    {
     "name": "stdout",
     "output_type": "stream",
     "text": [
      "Model: \"sequential_4\"\n",
      "_________________________________________________________________\n",
      "Layer (type)                 Output Shape              Param #   \n",
      "=================================================================\n",
      "conv2d_7 (Conv2D)            (None, 32, 32, 32)        896       \n",
      "_________________________________________________________________\n",
      "max_pooling2d_4 (MaxPooling2 (None, 16, 16, 32)        0         \n",
      "_________________________________________________________________\n",
      "conv2d_8 (Conv2D)            (None, 16, 16, 64)        18496     \n",
      "_________________________________________________________________\n",
      "max_pooling2d_5 (MaxPooling2 (None, 8, 8, 64)          0         \n",
      "_________________________________________________________________\n",
      "conv2d_9 (Conv2D)            (None, 8, 8, 128)         73856     \n",
      "_________________________________________________________________\n",
      "max_pooling2d_6 (MaxPooling2 (None, 8, 8, 128)         0         \n",
      "_________________________________________________________________\n",
      "conv2d_10 (Conv2D)           (None, 8, 8, 10)          11530     \n",
      "_________________________________________________________________\n",
      "dense_2 (Dense)              (None, 8, 8, 28)          308       \n",
      "=================================================================\n",
      "Total params: 105,086\n",
      "Trainable params: 105,086\n",
      "Non-trainable params: 0\n",
      "_________________________________________________________________\n"
     ]
    }
   ],
   "source": [
    "input_shape = (32, 32, 3)\n",
    "\n",
    "model = Sequential()\n",
    "\n",
    "model.add(Conv2D(32, kernel_size = (3, 3), padding ='same',input_shape=input_shape))\n",
    "model.add(MaxPooling2D(pool_size = (2, 2),strides=(2,2)))##pooling_size=2,2 strides=2,2 輸出feature map 大小為多少？\n",
    "          \n",
    "# Params = (kernel_size * input_channels + 1) * kernel numbers=((3* 3)*3+1)*32 = 896\n",
    "# Pooling_output = (Input+2*padding-Kernel_Size) /Stride+1= (32 + 2*1 - 3) / 2 + 1 = 16\n",
    "          \n",
    "          \n",
    "model.add(Conv2D(64, kernel_size=(3, 3), padding='same'))\n",
    "model.add(MaxPooling2D(pool_size = (2,2),strides = (2,2)))##pooling_size=2,2 strides=2,2 輸出feature map 大小為多少？\n",
    "# Params = (kernel_size * input_channels + 1) * kernel numbers=((3* 3)*32+1)*64 = 18496\n",
    "# Pooling_output = (Input+2*padding-Kernel_Size) /Stride+1= (16 + 2*1 - 3) / 2 + 1 = 8\n",
    "          \n",
    "          \n",
    "model.add(Conv2D(128, kernel_size=(3, 3), padding='same'))\n",
    "model.add(MaxPooling2D(pool_size= (1,1),strides= (1,1)))##pooling_size=1,1 strides=1,1 輸出feature map 大小為多少？\n",
    "# Params = (kernel_size * input_channels + 1) * kernel numbers=((3* 3)*64+1)*128 = 73856\n",
    "# Pooling_output = (Input+2*padding-Kernel_Size) /Stride+1= (8 + 2*1 - 3) / 1+ 1 = 8\n",
    "          \n",
    "          \n",
    "model.add(Conv2D(10, kernel_size=(3, 3), padding='same'))\n",
    "#model.add(Flatten()) ##Flatten完尺寸如何變化？\n",
    "#model.add(GlobalAveragePooling2D()) #關掉Flatten，使用GlobalAveragePooling2D，完尺寸如何變化？\n",
    "\n",
    "model.add(Dense(units=28, input_shape=input_shape)) ##全連接層使用28個units\n",
    "# Params = (kernel_size * input_channels + 1) * kernel numbers=((8* 8)*10+1) * 28 = 17948\n",
    "\n",
    "model.summary()"
   ]
  },
  {
   "cell_type": "code",
   "execution_count": null,
   "metadata": {},
   "outputs": [],
   "source": []
  }
 ],
 "metadata": {
  "colab": {
   "name": "池化、全連接層.ipynb",
   "provenance": []
  },
  "kernelspec": {
   "display_name": "Python 3",
   "language": "python",
   "name": "python3"
  },
  "language_info": {
   "codemirror_mode": {
    "name": "ipython",
    "version": 3
   },
   "file_extension": ".py",
   "mimetype": "text/x-python",
   "name": "python",
   "nbconvert_exporter": "python",
   "pygments_lexer": "ipython3",
   "version": "3.6.9"
  }
 },
 "nbformat": 4,
 "nbformat_minor": 1
}
